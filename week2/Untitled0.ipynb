{
  "nbformat": 4,
  "nbformat_minor": 0,
  "metadata": {
    "colab": {
      "provenance": [],
      "authorship_tag": "ABX9TyOtw1A45FGBvij73oEDAHQk",
      "include_colab_link": true
    },
    "kernelspec": {
      "name": "python3",
      "display_name": "Python 3"
    },
    "language_info": {
      "name": "python"
    }
  },
  "cells": [
    {
      "cell_type": "markdown",
      "metadata": {
        "id": "view-in-github",
        "colab_type": "text"
      },
      "source": [
        "<a href=\"https://colab.research.google.com/github/ShanmathiVasudevan/Siamese_NN_WiDS_SV/blob/main/week2/Untitled0.ipynb\" target=\"_parent\"><img src=\"https://colab.research.google.com/assets/colab-badge.svg\" alt=\"Open In Colab\"/></a>"
      ]
    },
    {
      "cell_type": "code",
      "execution_count": 2,
      "metadata": {
        "id": "tpoySTth-o3E"
      },
      "outputs": [],
      "source": [
        "!unzip -q -j /content/homer_bart.zip -d."
      ]
    },
    {
      "cell_type": "code",
      "source": [
        "import csv,os\n",
        "f=open('homer_bart.csv','w',newline='')\n",
        "w=csv.writer(f,delimiter=',')\n",
        "w.writerow(['File_name','Label'])\n",
        "print(os.listdir('/content/'))\n",
        "list_files=os.listdir('/content/')\n",
        "list_imgfiles=[]\n",
        "for file in list_files:\n",
        "  if file[-4::]=='.bmp':\n",
        "    list_imgfiles+=[file]\n",
        "print(list_imgfiles)\n",
        "for file in list_imgfiles:\n",
        "  if file[0]=='b':\n",
        "    w.writerow([file,0])\n",
        "  else:\n",
        "    w.writerow([file,1])"
      ],
      "metadata": {
        "colab": {
          "base_uri": "https://localhost:8080/"
        },
        "id": "Y20CZ0xd-5L7",
        "outputId": "6f3f8ce9-543e-4356-a137-17bd8d0894d7"
      },
      "execution_count": 4,
      "outputs": [
        {
          "output_type": "stream",
          "name": "stdout",
          "text": [
            "['.config', 'bart94.bmp', 'bart43.bmp', 'homer123.bmp', 'bart111.bmp', 'bart121.bmp', 'homer34.bmp', 'homer93.bmp', 'bart151.bmp', 'bart130.bmp', 'homer74.bmp', 'bart98.bmp', 'bart20.bmp', 'homer2.bmp', 'bart126.bmp', 'homer113.bmp', 'homer41.bmp', 'bart169.bmp', 'bart117.bmp', 'bart1.bmp', 'bart76.bmp', 'homer32.bmp', 'homer116.bmp', 'homer72.bmp', 'bart147.bmp', 'homer78.bmp', 'homer33.bmp', 'homer73.bmp', 'homer21.bmp', 'bart48.bmp', 'bart154.bmp', 'homer22.bmp', 'homer52.bmp', 'bart72.bmp', 'bart106.bmp', 'bart161.bmp', 'homer20.bmp', 'bart116.bmp', 'bart46.bmp', 'bart22.bmp', 'bart75.bmp', 'homer83.bmp', 'homer105.bmp', 'bart39.bmp', 'bart57.bmp', 'homer50.bmp', 'bart44.bmp', 'bart3.bmp', 'bart12.bmp', 'homer109.bmp', 'bart89.bmp', 'homer49.bmp', 'homer66.bmp', 'homer36.bmp', 'bart42.bmp', 'bart95.bmp', 'bart25.bmp', 'bart18.bmp', 'homer84.bmp', 'homer40.bmp', 'homer121.bmp', 'homer75.bmp', 'bart7.bmp', 'bart6.bmp', 'bart23.bmp', 'homer5.bmp', 'bart66.bmp', 'bart32.bmp', 'bart138.bmp', 'bart131.bmp', 'bart127.bmp', 'bart55.bmp', 'homer38.bmp', 'homer82.bmp', 'bart24.bmp', 'homer6.bmp', 'homer77.bmp', 'homer58.bmp', 'bart115.bmp', 'bart101.bmp', 'bart124.bmp', 'bart141.bmp', 'homer87.bmp', 'homer14.bmp', 'homer80.bmp', 'bart144.bmp', 'homer62.bmp', 'homer9.bmp', 'homer_bart.zip', 'homer24.bmp', 'homer65.bmp', 'bart73.bmp', 'bart168.bmp', 'homer63.bmp', 'bart74.bmp', 'bart77.bmp', 'bart137.bmp', 'bart146.bmp', 'homer99.bmp', 'bart108.bmp', 'bart4.bmp', 'bart15.bmp', 'bart87.bmp', 'bart80.bmp', 'homer37.bmp', 'homer28.bmp', 'bart17.bmp', 'homer102.bmp', 'homer85.bmp', 'bart50.bmp', 'bart59.bmp', 'bart62.bmp', 'bart135.bmp', 'homer95.bmp', 'homer10.bmp', 'bart11.bmp', 'bart164.bmp', 'bart99.bmp', 'homer44.bmp', 'bart54.bmp', 'homer35.bmp', 'homer56.bmp', 'homer110.bmp', 'homer4.bmp', 'bart119.bmp', 'bart71.bmp', 'bart35.bmp', 'bart65.bmp', 'bart64.bmp', 'bart136.bmp', 'homer94.bmp', 'bart100.bmp', 'bart61.bmp', 'bart105.bmp', 'bart159.bmp', 'homer18.bmp', 'bart128.bmp', 'bart16.bmp', 'bart149.bmp', 'bart143.bmp', 'bart2.bmp', 'bart134.bmp', 'bart38.bmp', 'homer15.bmp', 'bart27.bmp', 'bart29.bmp', 'bart53.bmp', 'homer16.bmp', 'homer91.bmp', 'homer103.bmp', 'homer30.bmp', 'homer26.bmp', 'homer79.bmp', 'homer101.bmp', 'homer17.bmp', 'bart70.bmp', 'homer124.bmp', 'bart85.bmp', 'bart9.bmp', 'homer8.bmp', 'homer31.bmp', 'homer100.bmp', 'bart122.bmp', 'homer51.bmp', 'homer57.bmp', 'homer45.bmp', 'homer60.bmp', 'homer122.bmp', 'bart104.bmp', 'bart49.bmp', 'homer68.bmp', 'bart150.bmp', 'homer13.bmp', 'bart13.bmp', 'bart162.bmp', 'bart133.bmp', 'bart45.bmp', 'homer47.bmp', 'bart139.bmp', 'bart156.bmp', 'bart37.bmp', 'homer70.bmp', 'bart166.bmp', 'bart81.bmp', 'bart8.bmp', 'bart132.bmp', 'bart167.bmp', 'homer69.bmp', 'homer97.bmp', 'homer_bart.csv', 'homer29.bmp', 'bart90.bmp', 'bart58.bmp', 'bart114.bmp', 'bart69.bmp', 'bart145.bmp', 'bart96.bmp', 'bart92.bmp', 'homer23.bmp', 'bart93.bmp', 'bart120.bmp', 'bart113.bmp', 'bart148.bmp', 'homer96.bmp', 'bart125.bmp', 'bart83.bmp', 'bart103.bmp', 'bart123.bmp', 'bart34.bmp', 'homer81.bmp', 'bart155.bmp', 'bart21.bmp', 'homer27.bmp', 'homer71.bmp', 'homer76.bmp', 'homer43.bmp', 'bart158.bmp', 'bart31.bmp', 'homer120.bmp', 'bart112.bmp', 'bart142.bmp', 'homer59.bmp', 'bart157.bmp', 'homer61.bmp', 'bart14.bmp', 'homer46.bmp', 'homer48.bmp', 'bart91.bmp', 'homer1.bmp', 'bart110.bmp', 'bart26.bmp', 'bart36.bmp', 'bart60.bmp', 'homer54.bmp', 'bart47.bmp', 'homer98.bmp', 'homer86.bmp', 'bart97.bmp', 'homer112.bmp', 'bart153.bmp', 'homer115.bmp', 'homer117.bmp', 'homer90.bmp', 'bart160.bmp', 'bart30.bmp', 'bart56.bmp', 'bart19.bmp', 'homer119.bmp', 'bart68.bmp', 'bart10.bmp', 'bart82.bmp', 'bart52.bmp', 'homer92.bmp', 'bart28.bmp', 'bart67.bmp', 'bart63.bmp', 'bart79.bmp', 'bart84.bmp', 'homer106.bmp', 'homer107.bmp', 'bart109.bmp', 'homer55.bmp', 'bart102.bmp', 'bart165.bmp', 'homer7.bmp', 'homer104.bmp', 'bart118.bmp', 'homer3.bmp', 'bart40.bmp', 'bart5.bmp', 'bart51.bmp', 'bart86.bmp', 'sample_data']\n",
            "['bart94.bmp', 'bart43.bmp', 'homer123.bmp', 'bart111.bmp', 'bart121.bmp', 'homer34.bmp', 'homer93.bmp', 'bart151.bmp', 'bart130.bmp', 'homer74.bmp', 'bart98.bmp', 'bart20.bmp', 'homer2.bmp', 'bart126.bmp', 'homer113.bmp', 'homer41.bmp', 'bart169.bmp', 'bart117.bmp', 'bart1.bmp', 'bart76.bmp', 'homer32.bmp', 'homer116.bmp', 'homer72.bmp', 'bart147.bmp', 'homer78.bmp', 'homer33.bmp', 'homer73.bmp', 'homer21.bmp', 'bart48.bmp', 'bart154.bmp', 'homer22.bmp', 'homer52.bmp', 'bart72.bmp', 'bart106.bmp', 'bart161.bmp', 'homer20.bmp', 'bart116.bmp', 'bart46.bmp', 'bart22.bmp', 'bart75.bmp', 'homer83.bmp', 'homer105.bmp', 'bart39.bmp', 'bart57.bmp', 'homer50.bmp', 'bart44.bmp', 'bart3.bmp', 'bart12.bmp', 'homer109.bmp', 'bart89.bmp', 'homer49.bmp', 'homer66.bmp', 'homer36.bmp', 'bart42.bmp', 'bart95.bmp', 'bart25.bmp', 'bart18.bmp', 'homer84.bmp', 'homer40.bmp', 'homer121.bmp', 'homer75.bmp', 'bart7.bmp', 'bart6.bmp', 'bart23.bmp', 'homer5.bmp', 'bart66.bmp', 'bart32.bmp', 'bart138.bmp', 'bart131.bmp', 'bart127.bmp', 'bart55.bmp', 'homer38.bmp', 'homer82.bmp', 'bart24.bmp', 'homer6.bmp', 'homer77.bmp', 'homer58.bmp', 'bart115.bmp', 'bart101.bmp', 'bart124.bmp', 'bart141.bmp', 'homer87.bmp', 'homer14.bmp', 'homer80.bmp', 'bart144.bmp', 'homer62.bmp', 'homer9.bmp', 'homer24.bmp', 'homer65.bmp', 'bart73.bmp', 'bart168.bmp', 'homer63.bmp', 'bart74.bmp', 'bart77.bmp', 'bart137.bmp', 'bart146.bmp', 'homer99.bmp', 'bart108.bmp', 'bart4.bmp', 'bart15.bmp', 'bart87.bmp', 'bart80.bmp', 'homer37.bmp', 'homer28.bmp', 'bart17.bmp', 'homer102.bmp', 'homer85.bmp', 'bart50.bmp', 'bart59.bmp', 'bart62.bmp', 'bart135.bmp', 'homer95.bmp', 'homer10.bmp', 'bart11.bmp', 'bart164.bmp', 'bart99.bmp', 'homer44.bmp', 'bart54.bmp', 'homer35.bmp', 'homer56.bmp', 'homer110.bmp', 'homer4.bmp', 'bart119.bmp', 'bart71.bmp', 'bart35.bmp', 'bart65.bmp', 'bart64.bmp', 'bart136.bmp', 'homer94.bmp', 'bart100.bmp', 'bart61.bmp', 'bart105.bmp', 'bart159.bmp', 'homer18.bmp', 'bart128.bmp', 'bart16.bmp', 'bart149.bmp', 'bart143.bmp', 'bart2.bmp', 'bart134.bmp', 'bart38.bmp', 'homer15.bmp', 'bart27.bmp', 'bart29.bmp', 'bart53.bmp', 'homer16.bmp', 'homer91.bmp', 'homer103.bmp', 'homer30.bmp', 'homer26.bmp', 'homer79.bmp', 'homer101.bmp', 'homer17.bmp', 'bart70.bmp', 'homer124.bmp', 'bart85.bmp', 'bart9.bmp', 'homer8.bmp', 'homer31.bmp', 'homer100.bmp', 'bart122.bmp', 'homer51.bmp', 'homer57.bmp', 'homer45.bmp', 'homer60.bmp', 'homer122.bmp', 'bart104.bmp', 'bart49.bmp', 'homer68.bmp', 'bart150.bmp', 'homer13.bmp', 'bart13.bmp', 'bart162.bmp', 'bart133.bmp', 'bart45.bmp', 'homer47.bmp', 'bart139.bmp', 'bart156.bmp', 'bart37.bmp', 'homer70.bmp', 'bart166.bmp', 'bart81.bmp', 'bart8.bmp', 'bart132.bmp', 'bart167.bmp', 'homer69.bmp', 'homer97.bmp', 'homer29.bmp', 'bart90.bmp', 'bart58.bmp', 'bart114.bmp', 'bart69.bmp', 'bart145.bmp', 'bart96.bmp', 'bart92.bmp', 'homer23.bmp', 'bart93.bmp', 'bart120.bmp', 'bart113.bmp', 'bart148.bmp', 'homer96.bmp', 'bart125.bmp', 'bart83.bmp', 'bart103.bmp', 'bart123.bmp', 'bart34.bmp', 'homer81.bmp', 'bart155.bmp', 'bart21.bmp', 'homer27.bmp', 'homer71.bmp', 'homer76.bmp', 'homer43.bmp', 'bart158.bmp', 'bart31.bmp', 'homer120.bmp', 'bart112.bmp', 'bart142.bmp', 'homer59.bmp', 'bart157.bmp', 'homer61.bmp', 'bart14.bmp', 'homer46.bmp', 'homer48.bmp', 'bart91.bmp', 'homer1.bmp', 'bart110.bmp', 'bart26.bmp', 'bart36.bmp', 'bart60.bmp', 'homer54.bmp', 'bart47.bmp', 'homer98.bmp', 'homer86.bmp', 'bart97.bmp', 'homer112.bmp', 'bart153.bmp', 'homer115.bmp', 'homer117.bmp', 'homer90.bmp', 'bart160.bmp', 'bart30.bmp', 'bart56.bmp', 'bart19.bmp', 'homer119.bmp', 'bart68.bmp', 'bart10.bmp', 'bart82.bmp', 'bart52.bmp', 'homer92.bmp', 'bart28.bmp', 'bart67.bmp', 'bart63.bmp', 'bart79.bmp', 'bart84.bmp', 'homer106.bmp', 'homer107.bmp', 'bart109.bmp', 'homer55.bmp', 'bart102.bmp', 'bart165.bmp', 'homer7.bmp', 'homer104.bmp', 'bart118.bmp', 'homer3.bmp', 'bart40.bmp', 'bart5.bmp', 'bart51.bmp', 'bart86.bmp']\n"
          ]
        }
      ]
    },
    {
      "cell_type": "code",
      "source": [
        "import pandas as pd\n",
        "data=pd.read_csv('homer_bart.csv')\n",
        "print(data)"
      ],
      "metadata": {
        "colab": {
          "base_uri": "https://localhost:8080/"
        },
        "id": "B-6jekjIDdqM",
        "outputId": "b48b7749-2d14-48c3-9f39-44f10afd1fad"
      },
      "execution_count": 5,
      "outputs": [
        {
          "output_type": "stream",
          "name": "stdout",
          "text": [
            "        File_name  Label\n",
            "0      bart94.bmp      0\n",
            "1      bart43.bmp      0\n",
            "2    homer123.bmp      1\n",
            "3     bart111.bmp      0\n",
            "4     bart121.bmp      0\n",
            "..            ...    ...\n",
            "264    homer3.bmp      1\n",
            "265    bart40.bmp      0\n",
            "266     bart5.bmp      0\n",
            "267    bart51.bmp      0\n",
            "268    bart86.bmp      0\n",
            "\n",
            "[269 rows x 2 columns]\n"
          ]
        }
      ]
    },
    {
      "cell_type": "code",
      "source": [
        "import tensorflow as tf\n",
        "from tensorflow import keras\n",
        "from tensorflow.keras import layers,regularizers\n",
        "import numpy as np"
      ],
      "metadata": {
        "id": "Fk3IZpQPERdr"
      },
      "execution_count": 6,
      "outputs": []
    },
    {
      "cell_type": "code",
      "source": [
        "filepaths=data['File_name'].values\n",
        "labels=data['Label'].values\n",
        "train=tf.data.Dataset.from_tensor_slices((filepaths[0:int(0.9*len(filepaths))],labels[0:int(0.9*len(labels))]))\n",
        "test=tf.data.Dataset.from_tensor_slices((filepaths[int(0.9*len(filepaths)):],labels[int(0.9*len(labels)):]))\n"
      ],
      "metadata": {
        "id": "aJhhdHmpEbv2"
      },
      "execution_count": 7,
      "outputs": []
    },
    {
      "cell_type": "code",
      "source": [
        "img_height=64\n",
        "img_width=64\n",
        "batch_size=32"
      ],
      "metadata": {
        "id": "PLLlg8xBHJMn"
      },
      "execution_count": 8,
      "outputs": []
    },
    {
      "cell_type": "code",
      "source": [
        "from tensorflow.keras.preprocessing.image import ImageDataGenerator,random_brightness\n",
        "\n",
        "zoom=tf.keras.layers.RandomZoom(0.2)\n",
        "flip=tf.keras.layers.RandomFlip(\"horizontal\")\n",
        "translation=tf.keras.layers.RandomTranslation(height_factor=0.2,width_factor=0.2)\n",
        "contrast=tf.keras.layers.RandomContrast(0.2)\n",
        "def augment(image,label):\n",
        "  image=flip(image)\n",
        "  image=translation(image)\n",
        "  #image=zoom(image)\n",
        "  #image=contrast(image)\n",
        "  return image,label\n",
        "\n",
        "\n"
      ],
      "metadata": {
        "id": "Elz1QtNZqerE"
      },
      "execution_count": 9,
      "outputs": []
    },
    {
      "cell_type": "code",
      "source": [
        "def read_image(image_file,label):\n",
        "  image=tf.io.read_file(\"/content/\"+image_file)\n",
        "  image=tf.image.decode_bmp(image,channels=3)\n",
        "  image=tf.image.resize(image,(img_height,img_width))\n",
        "  return image,label\n",
        "\n",
        "train=train.map(read_image).map(augment).batch(batch_size)\n",
        "test=test.map(read_image).batch(batch_size)\n"
      ],
      "metadata": {
        "id": "eyEwCq2iGKbN"
      },
      "execution_count": 10,
      "outputs": []
    },
    {
      "cell_type": "code",
      "source": [
        "inputs = keras.Input(shape=(img_height,img_width,3))\n",
        "x=layers.Dense(192,activation='relu',kernel_regularizer=regularizers.l2(0.01))(inputs)\n",
        "x=layers.BatchNormalization()(x)\n",
        "x=layers.Dense(128,activation='relu',kernel_regularizer=regularizers.l2(0.01))(x)\n",
        "x=layers.BatchNormalization()(x)\n",
        "'''x=layers.Dense(64,activation='relu',kernel_regularizer=regularizers.l2(0.01))(x)\n",
        "x=layers.BatchNormalization()(x)'''\n",
        "x=layers.Flatten()(x)\n",
        "outputs=layers.Dense(2,activation='sigmoid',kernel_regularizer=regularizers.l2(0.02))(x)\n",
        "model=keras.Model(inputs=inputs,outputs=outputs)\n",
        "print(model.summary())"
      ],
      "metadata": {
        "colab": {
          "base_uri": "https://localhost:8080/",
          "height": 403
        },
        "id": "vECDoY9aHAZR",
        "outputId": "59eee51b-ec72-4ef9-b87a-d2b3c5dc192c"
      },
      "execution_count": 13,
      "outputs": [
        {
          "output_type": "display_data",
          "data": {
            "text/plain": [
              "\u001b[1mModel: \"functional_1\"\u001b[0m\n"
            ],
            "text/html": [
              "<pre style=\"white-space:pre;overflow-x:auto;line-height:normal;font-family:Menlo,'DejaVu Sans Mono',consolas,'Courier New',monospace\"><span style=\"font-weight: bold\">Model: \"functional_1\"</span>\n",
              "</pre>\n"
            ]
          },
          "metadata": {}
        },
        {
          "output_type": "display_data",
          "data": {
            "text/plain": [
              "┏━━━━━━━━━━━━━━━━━━━━━━━━━━━━━━━━━━━━━━┳━━━━━━━━━━━━━━━━━━━━━━━━━━━━━┳━━━━━━━━━━━━━━━━━┓\n",
              "┃\u001b[1m \u001b[0m\u001b[1mLayer (type)                        \u001b[0m\u001b[1m \u001b[0m┃\u001b[1m \u001b[0m\u001b[1mOutput Shape               \u001b[0m\u001b[1m \u001b[0m┃\u001b[1m \u001b[0m\u001b[1m        Param #\u001b[0m\u001b[1m \u001b[0m┃\n",
              "┡━━━━━━━━━━━━━━━━━━━━━━━━━━━━━━━━━━━━━━╇━━━━━━━━━━━━━━━━━━━━━━━━━━━━━╇━━━━━━━━━━━━━━━━━┩\n",
              "│ input_layer_1 (\u001b[38;5;33mInputLayer\u001b[0m)           │ (\u001b[38;5;45mNone\u001b[0m, \u001b[38;5;34m64\u001b[0m, \u001b[38;5;34m64\u001b[0m, \u001b[38;5;34m3\u001b[0m)           │               \u001b[38;5;34m0\u001b[0m │\n",
              "├──────────────────────────────────────┼─────────────────────────────┼─────────────────┤\n",
              "│ dense_3 (\u001b[38;5;33mDense\u001b[0m)                      │ (\u001b[38;5;45mNone\u001b[0m, \u001b[38;5;34m64\u001b[0m, \u001b[38;5;34m64\u001b[0m, \u001b[38;5;34m192\u001b[0m)         │             \u001b[38;5;34m768\u001b[0m │\n",
              "├──────────────────────────────────────┼─────────────────────────────┼─────────────────┤\n",
              "│ batch_normalization_2                │ (\u001b[38;5;45mNone\u001b[0m, \u001b[38;5;34m64\u001b[0m, \u001b[38;5;34m64\u001b[0m, \u001b[38;5;34m192\u001b[0m)         │             \u001b[38;5;34m768\u001b[0m │\n",
              "│ (\u001b[38;5;33mBatchNormalization\u001b[0m)                 │                             │                 │\n",
              "├──────────────────────────────────────┼─────────────────────────────┼─────────────────┤\n",
              "│ dense_4 (\u001b[38;5;33mDense\u001b[0m)                      │ (\u001b[38;5;45mNone\u001b[0m, \u001b[38;5;34m64\u001b[0m, \u001b[38;5;34m64\u001b[0m, \u001b[38;5;34m128\u001b[0m)         │          \u001b[38;5;34m24,704\u001b[0m │\n",
              "├──────────────────────────────────────┼─────────────────────────────┼─────────────────┤\n",
              "│ batch_normalization_3                │ (\u001b[38;5;45mNone\u001b[0m, \u001b[38;5;34m64\u001b[0m, \u001b[38;5;34m64\u001b[0m, \u001b[38;5;34m128\u001b[0m)         │             \u001b[38;5;34m512\u001b[0m │\n",
              "│ (\u001b[38;5;33mBatchNormalization\u001b[0m)                 │                             │                 │\n",
              "├──────────────────────────────────────┼─────────────────────────────┼─────────────────┤\n",
              "│ flatten_1 (\u001b[38;5;33mFlatten\u001b[0m)                  │ (\u001b[38;5;45mNone\u001b[0m, \u001b[38;5;34m524288\u001b[0m)              │               \u001b[38;5;34m0\u001b[0m │\n",
              "├──────────────────────────────────────┼─────────────────────────────┼─────────────────┤\n",
              "│ dense_5 (\u001b[38;5;33mDense\u001b[0m)                      │ (\u001b[38;5;45mNone\u001b[0m, \u001b[38;5;34m2\u001b[0m)                   │       \u001b[38;5;34m1,048,578\u001b[0m │\n",
              "└──────────────────────────────────────┴─────────────────────────────┴─────────────────┘\n"
            ],
            "text/html": [
              "<pre style=\"white-space:pre;overflow-x:auto;line-height:normal;font-family:Menlo,'DejaVu Sans Mono',consolas,'Courier New',monospace\">┏━━━━━━━━━━━━━━━━━━━━━━━━━━━━━━━━━━━━━━┳━━━━━━━━━━━━━━━━━━━━━━━━━━━━━┳━━━━━━━━━━━━━━━━━┓\n",
              "┃<span style=\"font-weight: bold\"> Layer (type)                         </span>┃<span style=\"font-weight: bold\"> Output Shape                </span>┃<span style=\"font-weight: bold\">         Param # </span>┃\n",
              "┡━━━━━━━━━━━━━━━━━━━━━━━━━━━━━━━━━━━━━━╇━━━━━━━━━━━━━━━━━━━━━━━━━━━━━╇━━━━━━━━━━━━━━━━━┩\n",
              "│ input_layer_1 (<span style=\"color: #0087ff; text-decoration-color: #0087ff\">InputLayer</span>)           │ (<span style=\"color: #00d7ff; text-decoration-color: #00d7ff\">None</span>, <span style=\"color: #00af00; text-decoration-color: #00af00\">64</span>, <span style=\"color: #00af00; text-decoration-color: #00af00\">64</span>, <span style=\"color: #00af00; text-decoration-color: #00af00\">3</span>)           │               <span style=\"color: #00af00; text-decoration-color: #00af00\">0</span> │\n",
              "├──────────────────────────────────────┼─────────────────────────────┼─────────────────┤\n",
              "│ dense_3 (<span style=\"color: #0087ff; text-decoration-color: #0087ff\">Dense</span>)                      │ (<span style=\"color: #00d7ff; text-decoration-color: #00d7ff\">None</span>, <span style=\"color: #00af00; text-decoration-color: #00af00\">64</span>, <span style=\"color: #00af00; text-decoration-color: #00af00\">64</span>, <span style=\"color: #00af00; text-decoration-color: #00af00\">192</span>)         │             <span style=\"color: #00af00; text-decoration-color: #00af00\">768</span> │\n",
              "├──────────────────────────────────────┼─────────────────────────────┼─────────────────┤\n",
              "│ batch_normalization_2                │ (<span style=\"color: #00d7ff; text-decoration-color: #00d7ff\">None</span>, <span style=\"color: #00af00; text-decoration-color: #00af00\">64</span>, <span style=\"color: #00af00; text-decoration-color: #00af00\">64</span>, <span style=\"color: #00af00; text-decoration-color: #00af00\">192</span>)         │             <span style=\"color: #00af00; text-decoration-color: #00af00\">768</span> │\n",
              "│ (<span style=\"color: #0087ff; text-decoration-color: #0087ff\">BatchNormalization</span>)                 │                             │                 │\n",
              "├──────────────────────────────────────┼─────────────────────────────┼─────────────────┤\n",
              "│ dense_4 (<span style=\"color: #0087ff; text-decoration-color: #0087ff\">Dense</span>)                      │ (<span style=\"color: #00d7ff; text-decoration-color: #00d7ff\">None</span>, <span style=\"color: #00af00; text-decoration-color: #00af00\">64</span>, <span style=\"color: #00af00; text-decoration-color: #00af00\">64</span>, <span style=\"color: #00af00; text-decoration-color: #00af00\">128</span>)         │          <span style=\"color: #00af00; text-decoration-color: #00af00\">24,704</span> │\n",
              "├──────────────────────────────────────┼─────────────────────────────┼─────────────────┤\n",
              "│ batch_normalization_3                │ (<span style=\"color: #00d7ff; text-decoration-color: #00d7ff\">None</span>, <span style=\"color: #00af00; text-decoration-color: #00af00\">64</span>, <span style=\"color: #00af00; text-decoration-color: #00af00\">64</span>, <span style=\"color: #00af00; text-decoration-color: #00af00\">128</span>)         │             <span style=\"color: #00af00; text-decoration-color: #00af00\">512</span> │\n",
              "│ (<span style=\"color: #0087ff; text-decoration-color: #0087ff\">BatchNormalization</span>)                 │                             │                 │\n",
              "├──────────────────────────────────────┼─────────────────────────────┼─────────────────┤\n",
              "│ flatten_1 (<span style=\"color: #0087ff; text-decoration-color: #0087ff\">Flatten</span>)                  │ (<span style=\"color: #00d7ff; text-decoration-color: #00d7ff\">None</span>, <span style=\"color: #00af00; text-decoration-color: #00af00\">524288</span>)              │               <span style=\"color: #00af00; text-decoration-color: #00af00\">0</span> │\n",
              "├──────────────────────────────────────┼─────────────────────────────┼─────────────────┤\n",
              "│ dense_5 (<span style=\"color: #0087ff; text-decoration-color: #0087ff\">Dense</span>)                      │ (<span style=\"color: #00d7ff; text-decoration-color: #00d7ff\">None</span>, <span style=\"color: #00af00; text-decoration-color: #00af00\">2</span>)                   │       <span style=\"color: #00af00; text-decoration-color: #00af00\">1,048,578</span> │\n",
              "└──────────────────────────────────────┴─────────────────────────────┴─────────────────┘\n",
              "</pre>\n"
            ]
          },
          "metadata": {}
        },
        {
          "output_type": "display_data",
          "data": {
            "text/plain": [
              "\u001b[1m Total params: \u001b[0m\u001b[38;5;34m1,075,330\u001b[0m (4.10 MB)\n"
            ],
            "text/html": [
              "<pre style=\"white-space:pre;overflow-x:auto;line-height:normal;font-family:Menlo,'DejaVu Sans Mono',consolas,'Courier New',monospace\"><span style=\"font-weight: bold\"> Total params: </span><span style=\"color: #00af00; text-decoration-color: #00af00\">1,075,330</span> (4.10 MB)\n",
              "</pre>\n"
            ]
          },
          "metadata": {}
        },
        {
          "output_type": "display_data",
          "data": {
            "text/plain": [
              "\u001b[1m Trainable params: \u001b[0m\u001b[38;5;34m1,074,690\u001b[0m (4.10 MB)\n"
            ],
            "text/html": [
              "<pre style=\"white-space:pre;overflow-x:auto;line-height:normal;font-family:Menlo,'DejaVu Sans Mono',consolas,'Courier New',monospace\"><span style=\"font-weight: bold\"> Trainable params: </span><span style=\"color: #00af00; text-decoration-color: #00af00\">1,074,690</span> (4.10 MB)\n",
              "</pre>\n"
            ]
          },
          "metadata": {}
        },
        {
          "output_type": "display_data",
          "data": {
            "text/plain": [
              "\u001b[1m Non-trainable params: \u001b[0m\u001b[38;5;34m640\u001b[0m (2.50 KB)\n"
            ],
            "text/html": [
              "<pre style=\"white-space:pre;overflow-x:auto;line-height:normal;font-family:Menlo,'DejaVu Sans Mono',consolas,'Courier New',monospace\"><span style=\"font-weight: bold\"> Non-trainable params: </span><span style=\"color: #00af00; text-decoration-color: #00af00\">640</span> (2.50 KB)\n",
              "</pre>\n"
            ]
          },
          "metadata": {}
        },
        {
          "output_type": "stream",
          "name": "stdout",
          "text": [
            "None\n"
          ]
        }
      ]
    },
    {
      "cell_type": "code",
      "source": [
        "model.compile(\n",
        "    loss=keras.losses.SparseCategoricalCrossentropy(from_logits=True),\n",
        "    optimizer=keras.optimizers.Adam(learning_rate=0.0001),\n",
        "    metrics=[\"accuracy\"],\n",
        ")\n",
        "model.fit(train,batch_size=batch_size,epochs=30,verbose=2)\n",
        "model.evaluate(test,batch_size=batch_size,verbose=2)"
      ],
      "metadata": {
        "colab": {
          "base_uri": "https://localhost:8080/"
        },
        "id": "Yk5ZLVdHHPZW",
        "outputId": "57570cd6-2b02-41b3-ae55-328f380021a1"
      },
      "execution_count": 14,
      "outputs": [
        {
          "output_type": "stream",
          "name": "stdout",
          "text": [
            "Epoch 1/30\n",
            "8/8 - 21s - 3s/step - accuracy: 0.6983 - loss: 3.1036\n",
            "Epoch 2/30\n",
            "8/8 - 17s - 2s/step - accuracy: 0.7231 - loss: 3.5043\n",
            "Epoch 3/30\n",
            "8/8 - 22s - 3s/step - accuracy: 0.7562 - loss: 3.4168\n",
            "Epoch 4/30\n",
            "8/8 - 19s - 2s/step - accuracy: 0.8099 - loss: 3.5481\n",
            "Epoch 5/30\n",
            "8/8 - 17s - 2s/step - accuracy: 0.8223 - loss: 2.6960\n",
            "Epoch 6/30\n",
            "8/8 - 21s - 3s/step - accuracy: 0.8760 - loss: 2.4311\n",
            "Epoch 7/30\n",
            "8/8 - 20s - 2s/step - accuracy: 0.8554 - loss: 2.9646\n",
            "Epoch 8/30\n",
            "8/8 - 19s - 2s/step - accuracy: 0.8554 - loss: 2.7704\n",
            "Epoch 9/30\n",
            "8/8 - 19s - 2s/step - accuracy: 0.8719 - loss: 2.5630\n",
            "Epoch 10/30\n",
            "8/8 - 17s - 2s/step - accuracy: 0.8306 - loss: 3.0153\n",
            "Epoch 11/30\n",
            "8/8 - 18s - 2s/step - accuracy: 0.8802 - loss: 2.7243\n",
            "Epoch 12/30\n",
            "8/8 - 31s - 4s/step - accuracy: 0.8884 - loss: 2.3197\n",
            "Epoch 13/30\n",
            "8/8 - 32s - 4s/step - accuracy: 0.8636 - loss: 2.9727\n",
            "Epoch 14/30\n",
            "8/8 - 19s - 2s/step - accuracy: 0.9298 - loss: 2.2446\n",
            "Epoch 15/30\n",
            "8/8 - 18s - 2s/step - accuracy: 0.8719 - loss: 2.3121\n",
            "Epoch 16/30\n",
            "8/8 - 20s - 3s/step - accuracy: 0.9008 - loss: 2.3978\n",
            "Epoch 17/30\n",
            "8/8 - 18s - 2s/step - accuracy: 0.9174 - loss: 2.1227\n",
            "Epoch 18/30\n",
            "8/8 - 19s - 2s/step - accuracy: 0.8967 - loss: 2.3989\n",
            "Epoch 19/30\n",
            "8/8 - 18s - 2s/step - accuracy: 0.8843 - loss: 2.5479\n",
            "Epoch 20/30\n",
            "8/8 - 18s - 2s/step - accuracy: 0.9091 - loss: 2.2873\n",
            "Epoch 21/30\n",
            "8/8 - 19s - 2s/step - accuracy: 0.9050 - loss: 2.2240\n",
            "Epoch 22/30\n",
            "8/8 - 20s - 2s/step - accuracy: 0.8884 - loss: 2.4187\n",
            "Epoch 23/30\n",
            "8/8 - 18s - 2s/step - accuracy: 0.8884 - loss: 2.6805\n",
            "Epoch 24/30\n",
            "8/8 - 21s - 3s/step - accuracy: 0.9132 - loss: 2.1586\n",
            "Epoch 25/30\n",
            "8/8 - 19s - 2s/step - accuracy: 0.8843 - loss: 2.8176\n",
            "Epoch 26/30\n",
            "8/8 - 18s - 2s/step - accuracy: 0.9174 - loss: 2.0872\n",
            "Epoch 27/30\n",
            "8/8 - 20s - 3s/step - accuracy: 0.9050 - loss: 2.4556\n",
            "Epoch 28/30\n",
            "8/8 - 18s - 2s/step - accuracy: 0.9298 - loss: 2.1936\n",
            "Epoch 29/30\n",
            "8/8 - 18s - 2s/step - accuracy: 0.9132 - loss: 2.2309\n",
            "Epoch 30/30\n",
            "8/8 - 20s - 2s/step - accuracy: 0.9215 - loss: 2.1286\n",
            "1/1 - 1s - 632ms/step - accuracy: 0.8889 - loss: 4.3806\n"
          ]
        },
        {
          "output_type": "execute_result",
          "data": {
            "text/plain": [
              "[4.380598545074463, 0.8888888955116272]"
            ]
          },
          "metadata": {},
          "execution_count": 14
        }
      ]
    }
  ]
}