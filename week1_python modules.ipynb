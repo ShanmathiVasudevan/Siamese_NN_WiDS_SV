{
 "cells": [
  {
   "cell_type": "markdown",
   "metadata": {},
   "source": [
    "### Instrutions \n",
    "\n",
    "1. Replace **None** with your code. You can add multiple lines of code if needed.\n",
    "\n",
    "2. You can create additional variables if you need.\n",
    "\n",
    "3. ***DO NOT CHANGE THE NAME OF THE VARIABLES THAT ARE USED BELOW. EX- array_a, reshaped_array***\n",
    "\n",
    "4. For submission download this ipynb file and upload in your repository"
   ]
  },
  {
   "cell_type": "code",
   "execution_count": null,
   "metadata": {},
   "outputs": [],
   "source": [
    "# Import required libraries (numpy, pandas, matplotlib)\n",
    "# Write code here"
   ]
  },
  {
   "cell_type": "code",
   "execution_count": null,
   "metadata": {},
   "outputs": [],
   "source": [
    "# Task 1: Create a NumPy Array\n",
    "# Create a NumPy array `array_a` with 20 random integers between 1 and 100.\n",
    "# Expected output format: array_a should be a 1D array with 20 elements.\n",
    "array_a = None"
   ]
  },
  {
   "cell_type": "code",
   "execution_count": null,
   "metadata": {},
   "outputs": [],
   "source": [
    "# Task 2: Array Reshaping\n",
    "# Reshape `array_a` into a 2D array `reshaped_array` with shape (5, 4).\n",
    "# Expected output format: reshaped_array should be a 5x4 matrix.\n",
    "reshaped_array = None"
   ]
  },
  {
   "cell_type": "code",
   "execution_count": null,
   "metadata": {},
   "outputs": [],
   "source": [
    "# Task 3: Array Indexing\n",
    "# Extract the first five elements of the first row of `reshaped_array` into `first_five_elements`.\n",
    "# Expected output format: first_five_elements should be a 1D array with 5 elements.\n",
    "first_five_elements = None"
   ]
  },
  {
   "cell_type": "code",
   "execution_count": null,
   "metadata": {},
   "outputs": [],
   "source": [
    "# Task 4: Element-wise Operations\n",
    "# Create another array `array_b` with the same shape as `reshaped_array`, and perform element-wise addition with `reshaped_array`.\n",
    "# Expected output format: added_arrays should be a 5x4 matrix, element-wise sum of reshaped_array and array_b.\n",
    "array_b = None\n",
    "added_arrays = None\n"
   ]
  },
  {
   "cell_type": "code",
   "execution_count": null,
   "metadata": {},
   "outputs": [],
   "source": [
    "\n",
    "# Task 5: Matrix Multiplication\n",
    "# Create two 3x3 matrices `matrix_a` and `matrix_b`. Perform matrix multiplication of `matrix_a` and `matrix_b` to get `matrix_product`.\n",
    "# Expected output format: matrix_product should be a 3x3 matrix.\n",
    "matrix_a = None\n",
    "matrix_b = None\n",
    "matrix_product = None\n"
   ]
  },
  {
   "cell_type": "code",
   "execution_count": null,
   "metadata": {},
   "outputs": [],
   "source": [
    "\n",
    "# Task 6: Broadcasting\n",
    "# Create `array_c` with 4 random integers. Add `array_c` to `reshaped_array` using broadcasting.\n",
    "# Expected output format: broadcasted_array should be a 5x4 matrix.\n",
    "array_c = None\n",
    "broadcasted_array = None\n"
   ]
  },
  {
   "cell_type": "code",
   "execution_count": null,
   "metadata": {},
   "outputs": [],
   "source": [
    "\n",
    "# Task 7: Array Slicing and Stride\n",
    "# Slice `reshaped_array` using a stride to create `sliced_array`, taking every third row and every second column.\n",
    "# Expected output format: sliced_array should have shape (2, 2).\n",
    "sliced_array = None\n"
   ]
  },
  {
   "cell_type": "code",
   "execution_count": null,
   "metadata": {},
   "outputs": [],
   "source": [
    "\n",
    "# Task 8: Statistical Computation\n",
    "# Compute the sum, mean, and standard deviation of `reshaped_array` and store them in a dictionary `stats`.\n",
    "# Expected output format: stats should be a dictionary with keys 'sum', 'mean', and 'std'.\n",
    "stats = None\n"
   ]
  },
  {
   "cell_type": "code",
   "execution_count": null,
   "metadata": {},
   "outputs": [],
   "source": [
    "\n",
    "# Task 9: Find the Maximum and Minimum\n",
    "# Find the indices of the maximum and minimum values in `reshaped_array` using np.argmax and np.argmin.\n",
    "# Expected output format: max_index and min_index should be integers.\n",
    "max_index = None\n",
    "min_index = None\n"
   ]
  },
  {
   "cell_type": "code",
   "execution_count": null,
   "metadata": {},
   "outputs": [],
   "source": [
    "\n",
    "# Task 10: Advanced Array Manipulation\n",
    "# Create `array_d` with 10 random floating-point numbers and modify it to contain only 0 and 1 based on whether the value is greater than 0.5.\n",
    "# Expected output format: modified_array_d should be a 1D array of integers (0 or 1).\n",
    "array_d = None\n",
    "modified_array_d = None\n"
   ]
  },
  {
   "cell_type": "markdown",
   "metadata": {},
   "source": [
    "##### Pandas Tasks"
   ]
  },
  {
   "cell_type": "code",
   "execution_count": null,
   "metadata": {},
   "outputs": [],
   "source": [
    "# Task 1: Create a DataFrame\n",
    "# Create a DataFrame `df_a` using `reshaped_array` with column names 'A', 'B', 'C', 'D'.\n",
    "# Expected output format: df_a should be a DataFrame with shape (5, 4).\n",
    "df_a = None\n"
   ]
  },
  {
   "cell_type": "code",
   "execution_count": null,
   "metadata": {},
   "outputs": [],
   "source": [
    "\n",
    "# Task 2: Row Operations\n",
    "# Add a new row `new_row` to `df_a`, containing 4 random integers between 1 and 50.\n",
    "# Expected output format: df_a should have 6 rows after adding `new_row`.\n",
    "new_row = None\n",
    "df_a.loc[\"new_row\"] = new_row\n"
   ]
  },
  {
   "cell_type": "code",
   "execution_count": null,
   "metadata": {},
   "outputs": [],
   "source": [
    "\n",
    "# Task 3: Column Manipulation\n",
    "# Add a new column 'Sum' to `df_a` that stores the row-wise sum of the columns.\n",
    "# Expected output format: df_a should have a 'Sum' column.\n",
    "df_a['Sum'] = None\n"
   ]
  },
  {
   "cell_type": "code",
   "execution_count": null,
   "metadata": {},
   "outputs": [],
   "source": [
    "\n",
    "# Task 4: Accessing Data\n",
    "# Extract the column 'C' from `df_a` and store it in a variable `col_c`.\n",
    "# Expected output format: col_c should be a pandas Series.\n",
    "col_c = None\n"
   ]
  },
  {
   "cell_type": "code",
   "execution_count": null,
   "metadata": {},
   "outputs": [],
   "source": [
    "\n",
    "# Task 5: Filtering Data\n",
    "# Filter `df_a` to create a new DataFrame `filtered_df` where column 'A' has values greater than 30.\n",
    "# Expected output format: filtered_df should be a subset of df_a.\n",
    "filtered_df = None\n"
   ]
  },
  {
   "cell_type": "code",
   "execution_count": null,
   "metadata": {},
   "outputs": [],
   "source": [
    "\n",
    "# Task 6: Statistical Operations\n",
    "# Compute the mean and standard deviation of all columns in `df_a` and store them in `mean_values` and `std_values`.\n",
    "# Expected output format: mean_values and std_values should be pandas Series with column names as the index.\n",
    "mean_values = None\n",
    "std_values = None\n"
   ]
  },
  {
   "cell_type": "code",
   "execution_count": null,
   "metadata": {},
   "outputs": [],
   "source": [
    "\n",
    "# Task 7: Handling Missing Data\n",
    "# Replace missing values (NaN) in `df_a` with the mean value of the respective columns.\n",
    "# Expected output format: df_a should have no missing values after filling NaN.\n",
    "df_a.iloc[2, 1] = np.nan\n",
    "df_a.iloc[4, 3] = np.nan\n",
    "df_a.fillna(df_a.mean(), inplace=True)\n"
   ]
  },
  {
   "cell_type": "code",
   "execution_count": null,
   "metadata": {},
   "outputs": [],
   "source": [
    "\n",
    "# Task 8: Sorting Data\n",
    "# Sort `df_a` based on column 'A' in descending order and store the result in `df_a_sorted`.\n",
    "# Expected output format: df_a_sorted should be a sorted DataFrame.\n",
    "df_a_sorted = None\n"
   ]
  },
  {
   "cell_type": "code",
   "execution_count": null,
   "metadata": {},
   "outputs": [],
   "source": [
    "\n",
    "# Task 9: Grouping Data\n",
    "# Group `df_a` by column 'A' and calculate the sum for each group. Store the result in `grouped_df`.\n",
    "# Expected output format: grouped_df should be a DataFrame with grouped sums.\n",
    "grouped_df = None\n"
   ]
  },
  {
   "cell_type": "code",
   "execution_count": null,
   "metadata": {},
   "outputs": [],
   "source": [
    "\n",
    "# Task 10: Merging DataFrames\n",
    "# Create another DataFrame `df_b` and merge it with `df_a` on column 'A', using an inner join.\n",
    "# Expected output format: merged_df should be a DataFrame containing rows where 'A' exists in both.\n",
    "df_b = None\n",
    "merged_df = None\n"
   ]
  },
  {
   "cell_type": "markdown",
   "metadata": {},
   "source": [
    "#### Matplotlib Tasks"
   ]
  },
  {
   "cell_type": "code",
   "execution_count": null,
   "metadata": {},
   "outputs": [],
   "source": [
    "# Task 1: Basic Plot\n",
    "# Create a simple line plot using `array_a` as the x-values and `added_arrays` as the y-values.\n",
    "plt.plot(None, None)\n",
    "plt.show()\n"
   ]
  },
  {
   "cell_type": "code",
   "execution_count": null,
   "metadata": {},
   "outputs": [],
   "source": [
    "\n",
    "# Task 2: Histogram\n",
    "# Create a histogram for `array_a` with 10 bins and display the plot.\n",
    "plt.hist(None, bins=10)\n",
    "plt.show()\n",
    "\n"
   ]
  },
  {
   "cell_type": "code",
   "execution_count": null,
   "metadata": {},
   "outputs": [],
   "source": [
    "# Task 3: Scatter Plot\n",
    "# Create a scatter plot using `array_a` as the x-values and `array_b` as the y-values.\n",
    "plt.scatter(None, None)\n",
    "plt.show()\n",
    "\n"
   ]
  },
  {
   "cell_type": "code",
   "execution_count": null,
   "metadata": {},
   "outputs": [],
   "source": [
    "# Task 4: Plot with Labels and Title\n",
    "# Create a plot with labeled axes and a title, using `array_a` and `array_b` as the x and y values respectively.\n",
    "plt.plot(None, None)\n",
    "plt.xlabel(\"X-axis Label\")\n",
    "plt.ylabel(\"Y-axis Label\")\n",
    "plt.title"
   ]
  },
  {
   "cell_type": "code",
   "execution_count": null,
   "metadata": {},
   "outputs": [],
   "source": []
  },
  {
   "cell_type": "code",
   "execution_count": null,
   "metadata": {},
   "outputs": [],
   "source": []
  },
  {
   "cell_type": "code",
   "execution_count": null,
   "metadata": {},
   "outputs": [],
   "source": []
  },
  {
   "cell_type": "code",
   "execution_count": null,
   "metadata": {},
   "outputs": [],
   "source": []
  },
  {
   "cell_type": "code",
   "execution_count": null,
   "metadata": {},
   "outputs": [],
   "source": []
  },
  {
   "cell_type": "code",
   "execution_count": null,
   "metadata": {},
   "outputs": [],
   "source": []
  },
  {
   "cell_type": "code",
   "execution_count": null,
   "metadata": {},
   "outputs": [],
   "source": []
  },
  {
   "cell_type": "code",
   "execution_count": null,
   "metadata": {},
   "outputs": [],
   "source": []
  },
  {
   "cell_type": "code",
   "execution_count": null,
   "metadata": {},
   "outputs": [],
   "source": []
  }
 ],
 "metadata": {
  "kernelspec": {
   "display_name": "base",
   "language": "python",
   "name": "python3"
  },
  "language_info": {
   "name": "python",
   "version": "3.11.7"
  }
 },
 "nbformat": 4,
 "nbformat_minor": 2
}
